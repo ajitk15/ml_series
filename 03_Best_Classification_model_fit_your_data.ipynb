{
  "nbformat": 4,
  "nbformat_minor": 0,
  "metadata": {
    "colab": {
      "provenance": [],
      "mount_file_id": "1jFtzESNCbQelt7q6YYwAPhhMrJDdWsB8",
      "authorship_tag": "ABX9TyPDxADKYvpaw8DpSFm6VsnL",
      "include_colab_link": true
    },
    "kernelspec": {
      "name": "python3",
      "display_name": "Python 3"
    },
    "language_info": {
      "name": "python"
    }
  },
  "cells": [
    {
      "cell_type": "markdown",
      "metadata": {
        "id": "view-in-github",
        "colab_type": "text"
      },
      "source": [
        "<a href=\"https://colab.research.google.com/github/ajitk15/ml_series/blob/main/03_Best_Classification_model_fit_your_data.ipynb\" target=\"_parent\"><img src=\"https://colab.research.google.com/assets/colab-badge.svg\" alt=\"Open In Colab\"/></a>"
      ]
    },
    {
      "cell_type": "code",
      "execution_count": 157,
      "metadata": {
        "id": "Wmb440LomzyM"
      },
      "outputs": [],
      "source": [
        "import pandas as pd\n",
        "import numpy as np\n",
        "import matplotlib.pyplot as plt\n",
        "from sklearn.metrics import confusion_matrix, accuracy_score"
      ]
    },
    {
      "cell_type": "code",
      "source": [
        "# To store accuracy and confusion metrics\n",
        "eval = {}"
      ],
      "metadata": {
        "id": "fWOVMtvrt1sq"
      },
      "execution_count": 158,
      "outputs": []
    },
    {
      "cell_type": "code",
      "source": [
        "df = pd.read_csv('Data.csv')\n",
        "X = df.iloc[:, :-1].values\n",
        "y = df.iloc[:, -1].values"
      ],
      "metadata": {
        "id": "pKPmkyE5nNo3"
      },
      "execution_count": 159,
      "outputs": []
    },
    {
      "cell_type": "code",
      "source": [
        "from sklearn.model_selection import train_test_split\n",
        "X_train, X_test, y_train, y_test = train_test_split(X, y, random_state=0, test_size=0.25)"
      ],
      "metadata": {
        "id": "fjXkS-VGnbGR"
      },
      "execution_count": 160,
      "outputs": []
    },
    {
      "cell_type": "code",
      "source": [
        "from sklearn.preprocessing import StandardScaler\n",
        "sc = StandardScaler()\n",
        "X_train = sc.fit_transform(X_train)\n",
        "X_test = sc.transform(X_test)"
      ],
      "metadata": {
        "id": "kN6CdfImpOvl"
      },
      "execution_count": 161,
      "outputs": []
    },
    {
      "cell_type": "code",
      "source": [
        "#Logistic Regression Classification\n",
        "from sklearn.linear_model import LogisticRegression\n",
        "clas = LogisticRegression(random_state = 0)\n",
        "clas.fit(X_train, y_train)\n",
        "y_pred = clas.predict(X_test)\n",
        "eval['Logistic Classification cm'] = confusion_matrix(y_test, y_pred)\n",
        "eval['Logistic Classification as'] = accuracy_score(y_test, y_pred)"
      ],
      "metadata": {
        "id": "1u1wSLQXn_i7"
      },
      "execution_count": 162,
      "outputs": []
    },
    {
      "cell_type": "code",
      "source": [
        "from sklearn.neighbors import KNeighborsClassifier\n",
        "clas = KNeighborsClassifier(n_neighbors = 5, metric = 'minkowski', p = 2)\n",
        "clas.fit(X_train, y_train)\n",
        "y_pred = clas.predict(X_test)\n",
        "eval['K-Nearest Neighbors (K-NN) cm'] = confusion_matrix(y_test, y_pred)\n",
        "eval['K-Nearest Neighbors (K-NN) as'] = accuracy_score(y_test, y_pred)"
      ],
      "metadata": {
        "id": "tszg-SFjtkPF"
      },
      "execution_count": 163,
      "outputs": []
    },
    {
      "cell_type": "code",
      "source": [
        "from sklearn.svm import SVC\n",
        "clas = SVC(kernel = 'linear', random_state = 0)\n",
        "clas.fit(X_train, y_train)\n",
        "y_pred = clas.predict(X_test)\n",
        "eval['SVM Linear cm'] = confusion_matrix(y_test, y_pred)\n",
        "eval['SVM Linear as'] = accuracy_score(y_test, y_pred)"
      ],
      "metadata": {
        "id": "R2R6EsRIv7Os"
      },
      "execution_count": 164,
      "outputs": []
    },
    {
      "cell_type": "code",
      "source": [
        "from sklearn.svm import SVC\n",
        "clas = SVC(kernel = 'rbf', random_state = 0)\n",
        "clas.fit(X_train, y_train)\n",
        "y_pred = clas.predict(X_test)\n",
        "eval['SVM rbf cm'] = confusion_matrix(y_test, y_pred)\n",
        "eval['SVM rbf as'] = accuracy_score(y_test, y_pred)"
      ],
      "metadata": {
        "id": "geSzmEWgwMSm"
      },
      "execution_count": 165,
      "outputs": []
    },
    {
      "cell_type": "code",
      "source": [
        "from sklearn.naive_bayes import GaussianNB\n",
        "clas = GaussianNB()\n",
        "clas.fit(X_train, y_train)\n",
        "y_pred = clas.predict(X_test)\n",
        "eval['naive_bayes cm'] = confusion_matrix(y_test, y_pred)\n",
        "eval['naive_bayes as'] = accuracy_score(y_test, y_pred)"
      ],
      "metadata": {
        "id": "vGAD8XRWw05A"
      },
      "execution_count": 166,
      "outputs": []
    },
    {
      "cell_type": "code",
      "source": [
        "from sklearn.tree import DecisionTreeClassifier\n",
        "clas = DecisionTreeClassifier(criterion='entropy', random_state = 0)\n",
        "clas.fit(X_train, y_train)\n",
        "y_pred = clas.predict(X_test)\n",
        "eval['DecisionTreeClassifier cm'] = confusion_matrix(y_test, y_pred)\n",
        "eval['DecisionTreeClassifier as'] = accuracy_score(y_test, y_pred)"
      ],
      "metadata": {
        "id": "y8rZmdAhxTxV"
      },
      "execution_count": 167,
      "outputs": []
    },
    {
      "cell_type": "code",
      "source": [
        "from sklearn.ensemble import RandomForestClassifier\n",
        "clas = RandomForestClassifier(criterion='entropy', n_estimators=10, random_state = 0)\n",
        "clas.fit(X_train, y_train)\n",
        "y_pred = clas.predict(X_test)\n",
        "eval['RandomForestClassifier cm'] = confusion_matrix(y_test, y_pred)\n",
        "eval['RandomForestClassifier as'] = accuracy_score(y_test, y_pred)"
      ],
      "metadata": {
        "id": "gX6kNsStxay1"
      },
      "execution_count": 168,
      "outputs": []
    },
    {
      "cell_type": "code",
      "source": [
        "eval"
      ],
      "metadata": {
        "colab": {
          "base_uri": "https://localhost:8080/"
        },
        "id": "2E_rg41Gv0pF",
        "outputId": "67c41c54-672b-4998-84e6-a46aa67b5569"
      },
      "execution_count": 169,
      "outputs": [
        {
          "output_type": "execute_result",
          "data": {
            "text/plain": [
              "{'Logistic Classification cm': array([[103,   4],\n",
              "        [  5,  59]]),\n",
              " 'Logistic Classification as': 0.9473684210526315,\n",
              " 'K-Nearest Neighbors (K-NN) cm': array([[103,   4],\n",
              "        [  5,  59]]),\n",
              " 'K-Nearest Neighbors (K-NN) as': 0.9473684210526315,\n",
              " 'SVM Linear cm': array([[102,   5],\n",
              "        [  5,  59]]),\n",
              " 'SVM Linear as': 0.9415204678362573,\n",
              " 'SVM rbf cm': array([[102,   5],\n",
              "        [  3,  61]]),\n",
              " 'SVM rbf as': 0.9532163742690059,\n",
              " 'naive_bayes cm': array([[99,  8],\n",
              "        [ 2, 62]]),\n",
              " 'naive_bayes as': 0.9415204678362573,\n",
              " 'DecisionTreeClassifier cm': array([[103,   4],\n",
              "        [  3,  61]]),\n",
              " 'DecisionTreeClassifier as': 0.9590643274853801,\n",
              " 'RandomForestClassifier cm': array([[102,   5],\n",
              "        [  6,  58]]),\n",
              " 'RandomForestClassifier as': 0.935672514619883}"
            ]
          },
          "metadata": {},
          "execution_count": 169
        }
      ]
    }
  ]
}